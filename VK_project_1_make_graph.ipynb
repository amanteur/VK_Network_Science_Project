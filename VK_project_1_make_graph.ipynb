{
  "nbformat": 4,
  "nbformat_minor": 0,
  "metadata": {
    "colab": {
      "name": "VK_project_1_make_graph.ipynb",
      "provenance": [],
      "collapsed_sections": [],
      "authorship_tag": "ABX9TyPbs+idJEZcG+pkozuev6PA"
    },
    "kernelspec": {
      "name": "python3",
      "display_name": "Python 3"
    }
  },
  "cells": [
    {
      "cell_type": "markdown",
      "metadata": {
        "id": "Chunq9B8Pw01"
      },
      "source": [
        "# VK Project\n",
        "### Network Science, Amantur Amatov\n"
      ]
    },
    {
      "cell_type": "markdown",
      "metadata": {
        "id": "DTdaQVGUP8K9"
      },
      "source": [
        "### Get Friends from VK"
      ]
    },
    {
      "cell_type": "code",
      "metadata": {
        "colab": {
          "base_uri": "https://localhost:8080/"
        },
        "id": "o8ExGl7VaSqr",
        "outputId": "00ef54f5-1413-4bff-9503-3f5907167b30"
      },
      "source": [
        "!pip install vk_api"
      ],
      "execution_count": null,
      "outputs": [
        {
          "output_type": "stream",
          "text": [
            "Requirement already satisfied: vk_api in /usr/local/lib/python3.7/dist-packages (11.9.1)\n",
            "Requirement already satisfied: requests in /usr/local/lib/python3.7/dist-packages (from vk_api) (2.23.0)\n",
            "Requirement already satisfied: six in /usr/local/lib/python3.7/dist-packages (from vk_api) (1.15.0)\n",
            "Requirement already satisfied: urllib3!=1.25.0,!=1.25.1,<1.26,>=1.21.1 in /usr/local/lib/python3.7/dist-packages (from requests->vk_api) (1.24.3)\n",
            "Requirement already satisfied: certifi>=2017.4.17 in /usr/local/lib/python3.7/dist-packages (from requests->vk_api) (2020.12.5)\n",
            "Requirement already satisfied: idna<3,>=2.5 in /usr/local/lib/python3.7/dist-packages (from requests->vk_api) (2.10)\n",
            "Requirement already satisfied: chardet<4,>=3.0.2 in /usr/local/lib/python3.7/dist-packages (from requests->vk_api) (3.0.4)\n"
          ],
          "name": "stdout"
        }
      ]
    },
    {
      "cell_type": "code",
      "metadata": {
        "id": "FxXkPom1PZOo"
      },
      "source": [
        "import vk_api"
      ],
      "execution_count": null,
      "outputs": []
    },
    {
      "cell_type": "markdown",
      "metadata": {
        "id": "OxRgatYzbu0X"
      },
      "source": [
        "Accessing VK API"
      ]
    },
    {
      "cell_type": "code",
      "metadata": {
        "id": "sRf9zWkbPsCY"
      },
      "source": [
        "phone_number = ''\n",
        "password = ''\n",
        "vk_session = vk_api.VkApi(phone_number, password)\n",
        "vk_session.auth()\n",
        "\n",
        "vk = vk_session.get_api()"
      ],
      "execution_count": null,
      "outputs": []
    },
    {
      "cell_type": "markdown",
      "metadata": {
        "id": "YRkuKm5iSkXX"
      },
      "source": [
        "I need to filter my friend list from deleted/banned users and get their attributes."
      ]
    },
    {
      "cell_type": "code",
      "metadata": {
        "id": "RDYVaO6_Tjpu"
      },
      "source": [
        "def filter_friends(friend_list, important_fields):\n",
        "\n",
        "  '''\n",
        "  Deletes all inactive users and get only active one's ID's, first and last names.\n",
        "  \n",
        "  Args:\n",
        "    friend_list(List of dicts): The input list of friends information to be filtered\n",
        "    important_fields(List of str): The input list of important information fields of friends\n",
        "                                  to be stayed in output list\n",
        "  Returns:\n",
        "    filtered_friend_list(List of dicts): The filtered output list of friends with prefered fields\n",
        "\n",
        "  '''\n",
        "\n",
        "  filtered_friend_list = []\n",
        "\n",
        "  for friend in friend_list:\n",
        "    if 'deactivated' in friend.keys():\n",
        "      continue\n",
        "    filtered_friend = {k:v for k,v in friend.items() if k in important_fields}\n",
        "    filtered_friend_list.append(filtered_friend)\n",
        "    \n",
        "  return filtered_friend_list"
      ],
      "execution_count": null,
      "outputs": []
    },
    {
      "cell_type": "code",
      "metadata": {
        "id": "_271VoBacEZu"
      },
      "source": [
        "def get_users_friend_list(user_id=None, \n",
        "                          fields_to_download=None, \n",
        "                          fields_to_filter=['id', 'first_name', 'last_name']):\n",
        "  '''\n",
        "\n",
        "  '''\n",
        "  raw_friend_list = vk.friends.get(user_id=user_id, fields=fields_to_download)\n",
        "  filtered_friend_list = filter_friends(raw_friend_list['items'], fields_to_filter) \n",
        "\n",
        "  return (raw_friend_list, filtered_friend_list)"
      ],
      "execution_count": null,
      "outputs": []
    },
    {
      "cell_type": "code",
      "metadata": {
        "colab": {
          "base_uri": "https://localhost:8080/"
        },
        "id": "TLF5SPPrRXwf",
        "outputId": "3f801063-85a6-461d-e88b-6e9a9ba22051"
      },
      "source": [
        "raw_friend_list, filtered_friend_list = get_users_friend_list(fields_to_download=['sex', 'country','education','city'],\n",
        "                                                              fields_to_filter=['id', 'first_name', 'last_name',\n",
        "                                                                                'country', 'city', 'sex', 'university_name'])\n",
        "print('There are {} friends in my VK friend list, which are not deleted/banned, and {} that are deleted/banned.'\\\n",
        "      .format(len(filtered_friend_list),\n",
        "              raw_friend_list['count']-len(filtered_friend_list)))"
      ],
      "execution_count": null,
      "outputs": [
        {
          "output_type": "stream",
          "text": [
            "There are 256 friends in my VK friend list, which are not deleted/banned, and 9 that are deleted/banned.\n"
          ],
          "name": "stdout"
        }
      ]
    },
    {
      "cell_type": "markdown",
      "metadata": {
        "id": "hwnzJqIEZF3R"
      },
      "source": [
        "Let us now find whether my friends have connections between each other (make some list of edges of future graph).  "
      ]
    },
    {
      "cell_type": "code",
      "metadata": {
        "id": "TwqOw1EoZ6P0"
      },
      "source": [
        "def find_friend_friends(friend_list):\n",
        "  '''\n",
        "  Returns a list of tuples where first positional argument is info about the friend and \n",
        "  the second is his/her friend list.\n",
        "\n",
        "  '''\n",
        "  ff_list = [(friend, vk.friends.get(user_id = friend['id'])['items']) for friend in friend_list]\n",
        "  \n",
        "  return ff_list\n",
        "  \n",
        "def find_friend_connections(friends_friend_list):\n",
        "  connection_set = {tuple(sorted((friend1['id'], friend2['id']))) for friend1, _ in friends_friend_list for friend2, friend_list in friends_friend_list\n",
        "                     if friend1['id'] in friend_list}\n",
        "  return connection_set"
      ],
      "execution_count": null,
      "outputs": []
    },
    {
      "cell_type": "code",
      "metadata": {
        "id": "gz8lac9Hm_dr"
      },
      "source": [
        "# do not run\n",
        "# friends_friends = find_friend_friends(filter_friends_list)\n",
        "# friend_edges = find_friend_connections(friends_friends)"
      ],
      "execution_count": null,
      "outputs": []
    },
    {
      "cell_type": "code",
      "metadata": {
        "id": "gzv4_c7b6avp"
      },
      "source": [
        "from google.colab import files\n",
        "\n",
        "def graph_edges_output(edges, filename = 'friend_connections.txt'):\n",
        "  with open(filename, 'w') as f:\n",
        "    f.write('\\n'.join('%s %s' % x for x in edges))\n",
        "  files.download(filename)\n",
        "  print('Done!')"
      ],
      "execution_count": null,
      "outputs": []
    },
    {
      "cell_type": "code",
      "metadata": {
        "id": "W-e7aJCL6sws"
      },
      "source": [
        "# graph_edges_output(friend_edges)"
      ],
      "execution_count": null,
      "outputs": []
    },
    {
      "cell_type": "code",
      "metadata": {
        "id": "DSuKilWK649q"
      },
      "source": [
        "def graph_edges_input(filename='friend_connections.txt'):\n",
        "  with open(filename) as f:\n",
        "    content = f.readlines()\n",
        "  # you may also want to remove whitespace characters like `\\n` at the end of each line\n",
        "  # content = [x.strip() for x in content] \n",
        "  content = [tuple(int(s) for s in i.split(' ')) for i in content]\n",
        "  return content"
      ],
      "execution_count": null,
      "outputs": []
    },
    {
      "cell_type": "code",
      "metadata": {
        "id": "gIBr98gP7WKE",
        "colab": {
          "base_uri": "https://localhost:8080/"
        },
        "outputId": "64ea8011-e933-42ba-e634-211bae6ca3d9"
      },
      "source": [
        "friend_edges = graph_edges_input()\n",
        "friend_edges[:10]"
      ],
      "execution_count": null,
      "outputs": [
        {
          "output_type": "execute_result",
          "data": {
            "text/plain": [
              "[(39138844, 336523067),\n",
              " (200201791, 212233817),\n",
              " (134651972, 139486120),\n",
              " (195776078, 267603225),\n",
              " (193651936, 342433080),\n",
              " (200201791, 236859310),\n",
              " (49205592, 303401274),\n",
              " (192862475, 426012154),\n",
              " (212827934, 392847871),\n",
              " (21894584, 316551627)]"
            ]
          },
          "metadata": {
            "tags": []
          },
          "execution_count": 76
        }
      ]
    },
    {
      "cell_type": "markdown",
      "metadata": {
        "id": "A_xwMQRhNky4"
      },
      "source": [
        "Let us add attribute \"Number of mutual friends\" to edges."
      ]
    },
    {
      "cell_type": "code",
      "metadata": {
        "id": "K07xv5VrXNrB"
      },
      "source": [
        "edge_atrs = {}\n",
        "for edge in friend_edges:\n",
        "    if 226163965 in edge:\n",
        "      edge_atrs[edge] = {'mutuals':0}\n",
        "      continue\n",
        "    mutuals = len(vk.friends.getMutual(source_uid = edge[0], target_uid = edge[1]))\n",
        "    edge_atrs[edge] = {'mutuals':mutuals}"
      ],
      "execution_count": null,
      "outputs": []
    },
    {
      "cell_type": "code",
      "metadata": {
        "id": "uRu4fhP2yODT"
      },
      "source": [
        "import networkx as nx\n",
        "\n",
        "G = nx.Graph()\n",
        "G_edges = friend_edges\n",
        "G_nodes = [friend['id'] for friend in filtered_friend_list]\n",
        "G.add_nodes_from(G_nodes)\n",
        "G.add_edges_from(G_edges)\n",
        "nx.set_edge_attributes(G, edge_atrs)\n",
        "G.remove_node(226163965)"
      ],
      "execution_count": null,
      "outputs": []
    },
    {
      "cell_type": "code",
      "metadata": {
        "id": "gONzX9rwzQYY"
      },
      "source": [
        "def nodes_attributes(G, friend_list_with_atrs):\n",
        "  atrs_dict = {friend['id']:friend for friend in friend_list_with_atrs}\n",
        "  nx.set_node_attributes(G, atrs_dict)\n",
        "  for (n,d) in G.nodes(data=True):\n",
        "    d['name']=d['first_name']+' '+d['last_name']\n",
        "    del d['first_name'], d['last_name']\n",
        "  return  G\n",
        "# {friend['id']:friend for friend in filtered_friend_list}"
      ],
      "execution_count": null,
      "outputs": []
    },
    {
      "cell_type": "code",
      "metadata": {
        "id": "XBKv_m-LynX2",
        "colab": {
          "base_uri": "https://localhost:8080/"
        },
        "outputId": "1d424488-3bc3-4152-d64e-df48badafd9a"
      },
      "source": [
        "G_atr = nodes_attributes(G, filtered_friend_list)\n",
        "for (n,d) in G_atr.nodes(data=True):\n",
        "  print(d)\n",
        "  if len(d)<4:\n",
        "    break"
      ],
      "execution_count": null,
      "outputs": [
        {
          "output_type": "stream",
          "text": [
            "{'id': 368567, 'sex': 2, 'city': {'id': 2, 'title': 'Санкт-Петербург'}, 'country': {'id': 1, 'title': 'Россия'}, 'name': 'Павел Неделько'}\n",
            "{'id': 2153814, 'sex': 2, 'city': {'id': 1, 'title': 'Москва'}, 'country': {'id': 1, 'title': 'Россия'}, 'university_name': 'МФТИ (Физтех)', 'name': 'Евгений Молчанов'}\n",
            "{'id': 2352276, 'sex': 1, 'city': {'id': 99, 'title': 'Новосибирск'}, 'country': {'id': 1, 'title': 'Россия'}, 'university_name': 'НГПУ', 'name': 'Александра Жданович'}\n",
            "{'id': 4166562, 'sex': 1, 'city': {'id': 14620, 'title': 'Lüneburg'}, 'country': {'id': 65, 'title': 'Германия'}, 'university_name': 'РГПУ им. А. И. Герцена', 'name': 'Ольга Кузнецова'}\n",
            "{'id': 6132074, 'sex': 1, 'country': {'id': 1, 'title': 'Россия'}, 'university_name': 'СПбПУ Петра Великого (Политех)', 'name': 'Александра Галкина'}\n",
            "{'id': 8469731, 'sex': 2, 'city': {'id': 1, 'title': 'Москва'}, 'country': {'id': 1, 'title': 'Россия'}, 'university_name': 'МГТУ им. Н. Э. Баумана', 'name': 'Александр Хижик'}\n",
            "{'id': 8490302, 'sex': 1, 'city': {'id': 2, 'title': 'Санкт-Петербург'}, 'country': {'id': 1, 'title': 'Россия'}, 'name': 'Марина Ибрагимова'}\n",
            "{'id': 11094314, 'sex': 2, 'city': {'id': 1, 'title': 'Москва'}, 'country': {'id': 1, 'title': 'Россия'}, 'university_name': 'НИУ ВШЭ (ГУ-ВШЭ)', 'name': 'Антон Наумов'}\n",
            "{'id': 12891165, 'sex': 2, 'city': {'id': 2, 'title': 'Санкт-Петербург'}, 'country': {'id': 1, 'title': 'Россия'}, 'university_name': 'СПбПУ Петра Великого (Политех)', 'name': 'Николай Руль'}\n",
            "{'id': 13365622, 'sex': 2, 'country': {'id': 15, 'title': 'Молдова'}, 'name': 'Олег Кендигелян'}\n",
            "{'id': 13880016, 'sex': 2, 'city': {'id': 123, 'title': 'Самара'}, 'country': {'id': 1, 'title': 'Россия'}, 'university_name': 'СамГУПС', 'name': 'Влад Энгельгардт'}\n",
            "{'id': 16313373, 'sex': 2, 'city': {'id': 2, 'title': 'Санкт-Петербург'}, 'country': {'id': 1, 'title': 'Россия'}, 'university_name': 'СПбПУ Петра Великого (Политех)', 'name': 'Егор Бехтенёв'}\n",
            "{'id': 17861104, 'sex': 2, 'name': 'Артём Сёмин'}\n"
          ],
          "name": "stdout"
        }
      ]
    },
    {
      "cell_type": "markdown",
      "metadata": {
        "id": "vcXe1ZEyd18F"
      },
      "source": [
        "Let us add popularity feature to our nodes. It means how many friends they have."
      ]
    },
    {
      "cell_type": "code",
      "metadata": {
        "id": "oRYUeX_TdxlS"
      },
      "source": [
        "def popularity(friend_list):\n",
        "  return {friend['id']:{'nfriends':vk.friends.get(user_id=friend['id'])['count']} for friend in friend_list}\n",
        "popularity_atr = popularity(filtered_friend_list)"
      ],
      "execution_count": null,
      "outputs": []
    },
    {
      "cell_type": "code",
      "metadata": {
        "colab": {
          "base_uri": "https://localhost:8080/"
        },
        "id": "lITPUOfXgM3B",
        "outputId": "65ebc771-a1e7-4020-f4fd-bef4f47f6547"
      },
      "source": [
        "  nx.set_node_attributes(G_atr, popularity_atr)\n",
        "  G_atr.nodes()[281865476]"
      ],
      "execution_count": null,
      "outputs": [
        {
          "output_type": "execute_result",
          "data": {
            "text/plain": [
              "{'city': {'id': 2, 'title': 'Санкт-Петербург'},\n",
              " 'country': {'id': 1, 'title': 'Россия'},\n",
              " 'id': 281865476,\n",
              " 'name': 'Евгений Шкалев',\n",
              " 'nfriends': 66,\n",
              " 'sex': 2,\n",
              " 'university_name': 'СПбПУ Петра Великого (Политех)'}"
            ]
          },
          "metadata": {
            "tags": []
          },
          "execution_count": 63
        }
      ]
    },
    {
      "cell_type": "markdown",
      "metadata": {
        "id": "kkAf0vHCXD9C"
      },
      "source": [
        "Let us download all prepared data for graph"
      ]
    },
    {
      "cell_type": "code",
      "metadata": {
        "id": "JR43f_tNXG7p"
      },
      "source": [
        "nx.write_gexf(G_atr, \"friend_list.gexf\")"
      ],
      "execution_count": null,
      "outputs": []
    },
    {
      "cell_type": "code",
      "metadata": {
        "id": "u3nji9SIgw-x"
      },
      "source": [
        ""
      ],
      "execution_count": null,
      "outputs": []
    }
  ]
}